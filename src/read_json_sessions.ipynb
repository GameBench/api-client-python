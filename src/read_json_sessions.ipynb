{
 "cells": [
  {
   "cell_type": "code",
   "execution_count": 47,
   "metadata": {},
   "outputs": [],
   "source": [
    "import json\n",
    "from datetime import datetime\n",
    "import pandas as pd"
   ]
  },
  {
   "cell_type": "code",
   "execution_count": 48,
   "metadata": {},
   "outputs": [],
   "source": [
    "# Convert Unix to datetime object on Windows\n",
    "def unix_to_datetime(x):   \n",
    "    try:\n",
    "        date = datetime.fromtimestamp(int(x)/1000).strftime('%Y-%m-%d')\n",
    "    except:\n",
    "        date = x\n",
    "    return date"
   ]
  },
  {
   "cell_type": "code",
   "execution_count": null,
   "metadata": {},
   "outputs": [],
   "source": [
    "with open(\"all_sessions.json\", \"r\") as read_file:\n",
    "    all_sessions = json.load(read_file)\n",
    "\n",
    "with open(\"all_tags.json\", \"r\") as read_file:\n",
    "    all_tags = json.load(read_file)"
   ]
  },
  {
   "cell_type": "code",
   "execution_count": 20,
   "metadata": {},
   "outputs": [],
   "source": [
    "all_tags_formatted = []\n",
    "for key in all_tags.keys():\n",
    "    for val in all_tags[key]:\n",
    "        all_tags_formatted.append(f\"{key}: {val}\")"
   ]
  },
  {
   "cell_type": "code",
   "execution_count": 25,
   "metadata": {},
   "outputs": [
    {
     "data": {
      "text/plain": [
       "'Movement: Great'"
      ]
     },
     "execution_count": 25,
     "metadata": {},
     "output_type": "execute_result"
    }
   ],
   "source": [
    "all_tags_formatted[10]"
   ]
  },
  {
   "cell_type": "code",
   "execution_count": 50,
   "metadata": {},
   "outputs": [
    {
     "name": "stdout",
     "output_type": "stream",
     "text": [
      "Session 5855544a-68c5-4481-b343-f27b5bbdf0ad by angus@gamebench.net on 2022-07-01 has tags: {'Where': 'Indoor', 'Gameplay': 'Poor', 'Movement': 'Great', 'User Experience': 'Poor'}.\n",
      "Session 3bb22627-19f1-463b-899f-19458490c271 by michael@gamebench.net on 2022-06-02 has tags: {'Where': 'Indoor', 'Gameplay': 'Great', 'Movement': 'Great', 'User Experience': 'Great'}.\n",
      "Session 3c17e5e3-8080-4513-b352-075252bada0e by karthik@gamebench.net on 2022-05-31 has tags: {'Where': 'Indoor', 'Gameplay': 'Great', 'Movement': 'Great', 'User Experience': 'Good'}.\n",
      "Session 4f34e6c7-5c89-48c1-af1e-0c2a56904ec4 by karthik@gamebench.net on 2022-05-31 has tags: {'Where': 'Indoor', 'Gameplay': 'Great', 'Movement': 'Great', 'User Experience': 'Good'}.\n",
      "Session d78d3965-a47d-40a8-8190-0914ed1441f6 by lorenzo@gamebench.net on 2022-05-13 has tags: {'Where': 'Indoor', 'Gameplay': 'Good', 'Movement': 'Great', 'User Experience': 'Poor'}.\n"
     ]
    }
   ],
   "source": [
    "keys = [\"Where\", \"Movement\"]\n",
    "vals = [\"Indoor\", \"Great\"]\n",
    "\n",
    "# Example of filtering sessions based on their tags\n",
    "\n",
    "for session_id in all_sessions:\n",
    "    match = True\n",
    "    cur_session = all_sessions[session_id]\n",
    "    if set(keys).issubset(cur_session[\"tags\"].keys()):\n",
    "        for i, key in enumerate(keys):\n",
    "            if cur_session[\"tags\"][key] != vals[i]:\n",
    "                match = False\n",
    "        if match:\n",
    "            print(f\"Session {session_id} by {cur_session['user']['userPlayAccount']} on {unix_to_datetime(cur_session['sessionDate'])} has tags: {cur_session['tags']}.\")\n",
    "    "
   ]
  },
  {
   "cell_type": "code",
   "execution_count": 44,
   "metadata": {},
   "outputs": [
    {
     "data": {
      "text/plain": [
       "1652442474509.0"
      ]
     },
     "execution_count": 44,
     "metadata": {},
     "output_type": "execute_result"
    }
   ],
   "source": [
    "unix_to_datetime(float(1652442474509))"
   ]
  },
  {
   "cell_type": "code",
   "execution_count": null,
   "metadata": {},
   "outputs": [],
   "source": []
  }
 ],
 "metadata": {
  "kernelspec": {
   "display_name": "Python 3.9.7 ('base')",
   "language": "python",
   "name": "python3"
  },
  "language_info": {
   "codemirror_mode": {
    "name": "ipython",
    "version": 3
   },
   "file_extension": ".py",
   "mimetype": "text/x-python",
   "name": "python",
   "nbconvert_exporter": "python",
   "pygments_lexer": "ipython3",
   "version": "3.9.7"
  },
  "orig_nbformat": 4,
  "vscode": {
   "interpreter": {
    "hash": "475136d997d1825c378a4fd2c0894801721ac5742b59fea7f3e6b5d484192865"
   }
  }
 },
 "nbformat": 4,
 "nbformat_minor": 2
}
